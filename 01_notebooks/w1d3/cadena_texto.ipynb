{
 "cells": [
  {
   "cell_type": "markdown",
   "metadata": {},
   "source": [
    "# Cadenas de texto\n",
    "\n",
    "\n",
    "En Ciencias de la computación una *cadena* ese una secuencia finita de símbolos tomados de una alfabeto. En los lenguajes de programación son predefinidos para representar palabras, oraciones, párrafos.\n",
    "\n",
    "1. lista de caracteres mediante el tipo inmutable *str* almacena caracteres *Unicode*\n",
    "2. el tipo de datos *str* puede llamarse como una función para crear un objeto cadena. Sin especificar argumentos retorna la cadena vacía, en caso contrario retorna los argumentos"
   ]
  },
  {
   "cell_type": "code",
   "execution_count": 2,
   "metadata": {},
   "outputs": [
    {
     "name": "stdout",
     "output_type": "stream",
     "text": [
      "Cadena vacia \n"
     ]
    }
   ],
   "source": [
    "print('Cadena vacia', str())"
   ]
  },
  {
   "cell_type": "code",
   "execution_count": 3,
   "metadata": {},
   "outputs": [
    {
     "name": "stdout",
     "output_type": "stream",
     "text": [
      "Repr. en Cadena ['A', 'h']\n"
     ]
    }
   ],
   "source": [
    "print('Repr. en Cadena', str(['A','h']))"
   ]
  },
  {
   "cell_type": "code",
   "execution_count": 4,
   "metadata": {},
   "outputs": [
    {
     "name": "stdout",
     "output_type": "stream",
     "text": [
      "Copia de Cadena MJ\n"
     ]
    }
   ],
   "source": [
    "print('Copia de Cadena', str('MJ'))"
   ]
  },
  {
   "cell_type": "markdown",
   "metadata": {},
   "source": [
    "3. los literales de cadena se crean utilizando `comillas`, las cuales pueden ser simples ' o doble \", siemPre hay que emplearlo a principio y al final.\n",
    "\n",
    "6. Una cadena en varias lineas dividimos con un \\ backslash"
   ]
  },
  {
   "cell_type": "code",
   "execution_count": 7,
   "metadata": {},
   "outputs": [],
   "source": [
    "# 4. también hay cadenas con tres comillas ''' que permiten incluir un texto en otra subcadena que incorporan una simple o doble.\n",
    "s4 = '''Como se dice popularmente 'de tal palo, tal astilla'\n",
    "    es como funciona ...'''"
   ]
  },
  {
   "cell_type": "code",
   "execution_count": 8,
   "metadata": {},
   "outputs": [
    {
     "data": {
      "text/plain": [
       "\"Como se dice popularmente 'de tal palo, tal astilla'\\n    es como funciona ...\""
      ]
     },
     "execution_count": 8,
     "metadata": {},
     "output_type": "execute_result"
    }
   ],
   "source": [
    "s4"
   ]
  },
  {
   "cell_type": "code",
   "execution_count": 9,
   "metadata": {},
   "outputs": [
    {
     "data": {
      "text/plain": [
       "'Hola Python!!'"
      ]
     },
     "execution_count": 9,
     "metadata": {},
     "output_type": "execute_result"
    }
   ],
   "source": [
    "# a. dividir cada línea con un backslash\n",
    "s2 = \"Hola \" \\\n",
    "    \"Python!!\"\n",
    "s2"
   ]
  },
  {
   "cell_type": "code",
   "execution_count": 10,
   "metadata": {},
   "outputs": [
    {
     "data": {
      "text/plain": [
       "'Hola Python!!'"
      ]
     },
     "execution_count": 10,
     "metadata": {},
     "output_type": "execute_result"
    }
   ],
   "source": [
    "# b. encapsular toda la expresión entre paréntesis para que Python la reconozca como una sola\n",
    "s3 = (\"Hola \"\n",
    "     \"Python!!\")\n",
    "s3"
   ]
  },
  {
   "cell_type": "markdown",
   "metadata": {},
   "source": [
    "5. Si hay que crear una cadena con comillas doble en su interior, utilizaremos el símbolo **\\** (backslash)\n",
    "s5 = \"Hola \\\"Python\\\"!!\""
   ]
  },
  {
   "cell_type": "code",
   "execution_count": 11,
   "metadata": {},
   "outputs": [
    {
     "data": {
      "text/plain": [
       "'Hola \"Python\"!!!'"
      ]
     },
     "execution_count": 11,
     "metadata": {},
     "output_type": "execute_result"
    }
   ],
   "source": [
    "s5 = \"Hola \\\"Python\\\"!!!\"\n",
    "s5"
   ]
  },
  {
   "cell_type": "markdown",
   "metadata": {},
   "source": [
    "7. todos los ficheros Python por defecto tiene la codificación Unicode, así que podemos escribir cualquier carácter Unicode en nuestras cadenas"
   ]
  },
  {
   "cell_type": "code",
   "execution_count": 12,
   "metadata": {},
   "outputs": [
    {
     "data": {
      "text/plain": [
       "'€ € €'"
      ]
     },
     "execution_count": 12,
     "metadata": {},
     "output_type": "execute_result"
    }
   ],
   "source": [
    "s7 = '\\N{euro sign} \\u20AC \\U000020AC'\n",
    "s7"
   ]
  },
  {
   "cell_type": "markdown",
   "metadata": {},
   "source": [
    "***\n",
    "## Identificadores y palabras claves\n",
    "\n",
    "Cuando creamos un dato podemos asignarlo a una variable o insertarlo en una colección. Los nombres dados a nuestros objetos son llamados **identificadores** o en ocasiones simplemente *nombres*.\n",
    "\n",
    "1. un indentificador válido es una secuencia no vacía, formada por un carácter inicial y cero o más caracteres que le continúan\n",
    "2. deben respetar ciertas reglas y seguir ciertos patrones o convenciones\n"
   ]
  },
  {
   "cell_type": "code",
   "execution_count": 13,
   "metadata": {},
   "outputs": [
    {
     "name": "stdout",
     "output_type": "stream",
     "text": [
      "10\n"
     ]
    }
   ],
   "source": [
    "# Ejemplo 1\n",
    "example_count = 10\n",
    "print(example_count)"
   ]
  },
  {
   "cell_type": "markdown",
   "metadata": {},
   "source": [
    "3. el carácter inicial puede ser cualquier símbolo que Unicode considere una letra, ASCII (a,b...,z,A,B...Z), el guión bajo (\\_\\), así como la mayoría de letras de lenguajes no ingleses."
   ]
  },
  {
   "cell_type": "code",
   "execution_count": 14,
   "metadata": {},
   "outputs": [
    {
     "ename": "SyntaxError",
     "evalue": "cannot assign to literal (<ipython-input-14-2ddb37e257d1>, line 2)",
     "output_type": "error",
     "traceback": [
      "\u001b[0;36m  File \u001b[0;32m\"<ipython-input-14-2ddb37e257d1>\"\u001b[0;36m, line \u001b[0;32m2\u001b[0m\n\u001b[0;31m    123 = 12 # no podemos asignar a los identificadores nombres de funciones nativas o números\u001b[0m\n\u001b[0m    ^\u001b[0m\n\u001b[0;31mSyntaxError\u001b[0m\u001b[0;31m:\u001b[0m cannot assign to literal\n"
     ]
    }
   ],
   "source": [
    "# Ejemplo 3\n",
    "123 = 12 # no podemos asignar a los identificadores nombres de funciones nativas o números"
   ]
  },
  {
   "cell_type": "markdown",
   "metadata": {},
   "source": [
    "4. Los caracteres de continuación pueden ser cualquier otro, excepto el espacio vacío, dígitos (0,1...9), otros especiales.\n",
    "5. son *case sensitive* de manera tal que: *matrizinicial, MatrizInicial, Matrizinicial, matrizInicial* son todos identificadores distintos."
   ]
  },
  {
   "cell_type": "code",
   "execution_count": 15,
   "metadata": {},
   "outputs": [
    {
     "name": "stdout",
     "output_type": "stream",
     "text": [
      "[[0, 0, 0], [0, 0, 0], [0, 0, 0]]\n"
     ]
    }
   ],
   "source": [
    "matriz = [[0,0,0],[0,0,0],[0,0,0]]\n",
    "print(matriz)"
   ]
  },
  {
   "cell_type": "code",
   "execution_count": 16,
   "metadata": {},
   "outputs": [
    {
     "data": {
      "text/plain": [
       "[[1, 2, 3], [0, 1, 2], [-1, -2, -3]]"
      ]
     },
     "execution_count": 16,
     "metadata": {},
     "output_type": "execute_result"
    }
   ],
   "source": [
    "Matriz = [[1,2,3], [0,1,2], [-1, -2, -3]]\n",
    "Matriz"
   ]
  },
  {
   "cell_type": "code",
   "execution_count": 18,
   "metadata": {},
   "outputs": [
    {
     "name": "stdout",
     "output_type": "stream",
     "text": [
      "[[0, 0, 0], [0, 0, 0], [0, 0, 0]]\n",
      "[[1, 2, 3], [0, 1, 2], [-1, -2, -3]]\n"
     ]
    }
   ],
   "source": [
    "print(matriz)\n",
    "print(Matriz)"
   ]
  },
  {
   "cell_type": "code",
   "execution_count": 19,
   "metadata": {},
   "outputs": [
    {
     "data": {
      "text/plain": [
       "False"
      ]
     },
     "execution_count": 19,
     "metadata": {},
     "output_type": "execute_result"
    }
   ],
   "source": [
    "matriz == Matriz"
   ]
  },
  {
   "cell_type": "code",
   "execution_count": 21,
   "metadata": {},
   "outputs": [
    {
     "name": "stdout",
     "output_type": "stream",
     "text": [
      "[[0, 0, 0], [0, 0, 0], [0, 0, 0]]\n"
     ]
    }
   ],
   "source": [
    "matriz2 = [[0,0,0],[0,0,0],[0,0,0]]\n",
    "print(matriz2)"
   ]
  },
  {
   "cell_type": "code",
   "execution_count": 22,
   "metadata": {},
   "outputs": [
    {
     "data": {
      "text/plain": [
       "True"
      ]
     },
     "execution_count": 22,
     "metadata": {},
     "output_type": "execute_result"
    }
   ],
   "source": [
    "matriz == matriz2"
   ]
  },
  {
   "cell_type": "code",
   "execution_count": 23,
   "metadata": {},
   "outputs": [
    {
     "data": {
      "text/plain": [
       "True"
      ]
     },
     "execution_count": 23,
     "metadata": {},
     "output_type": "execute_result"
    }
   ],
   "source": [
    "type(matriz) == type(Matriz)"
   ]
  },
  {
   "cell_type": "markdown",
   "metadata": {},
   "source": [
    "6. ningún identificador puede tener el mismo texto que una [palabra clave](https://docs.python.org/2.5/ref/keywords.html) del lenguaje Python. "
   ]
  },
  {
   "cell_type": "code",
   "execution_count": 24,
   "metadata": {},
   "outputs": [
    {
     "name": "stdout",
     "output_type": "stream",
     "text": [
      "10\n"
     ]
    }
   ],
   "source": [
    "# Ejemplo 6 -- # no es una buena práctica\n",
    "false = 10\n",
    "print(false)"
   ]
  },
  {
   "cell_type": "code",
   "execution_count": 25,
   "metadata": {},
   "outputs": [
    {
     "ename": "SyntaxError",
     "evalue": "cannot assign to False (<ipython-input-25-47d595d3d3c2>, line 1)",
     "output_type": "error",
     "traceback": [
      "\u001b[0;36m  File \u001b[0;32m\"<ipython-input-25-47d595d3d3c2>\"\u001b[0;36m, line \u001b[0;32m1\u001b[0m\n\u001b[0;31m    False = 15\u001b[0m\n\u001b[0m    ^\u001b[0m\n\u001b[0;31mSyntaxError\u001b[0m\u001b[0;31m:\u001b[0m cannot assign to False\n"
     ]
    }
   ],
   "source": [
    "False = 15"
   ]
  },
  {
   "cell_type": "markdown",
   "metadata": {},
   "source": [
    "7. Entre las convenciones para definir identificadores cabe destacar:\n",
    "\n",
    "- a. no utilizar nombres de tipo predefinido\n",
    "- b. nombre que comienzan con dos guiones bajos (\\__nombre\\__), ya que podría ser métodos especiales de Python."
   ]
  },
  {
   "cell_type": "code",
   "execution_count": null,
   "metadata": {},
   "outputs": [],
   "source": []
  }
 ],
 "metadata": {
  "kernelspec": {
   "display_name": "Python 3",
   "language": "python",
   "name": "python3"
  },
  "language_info": {
   "codemirror_mode": {
    "name": "ipython",
    "version": 3
   },
   "file_extension": ".py",
   "mimetype": "text/x-python",
   "name": "python",
   "nbconvert_exporter": "python",
   "pygments_lexer": "ipython3",
   "version": "3.8.6"
  }
 },
 "nbformat": 4,
 "nbformat_minor": 4
}

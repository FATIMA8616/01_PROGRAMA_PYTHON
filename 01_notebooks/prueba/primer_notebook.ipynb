{
 "cells": [
  {
   "cell_type": "markdown",
   "metadata": {},
   "source": [
    "# Primer día de Jupyter Notebook\n",
    "***\n",
    "## Los comandos principales\n",
    "\n",
    "* * *\n",
    "\n",
    "- ESCAPE + tecla M (permite convertir una celda en texto formato Markdown)\n",
    "- ESCAPE + tecla Y (permite convertir una celda en code)\n",
    "\n",
    "## Markdown\n",
    "Para más informaciones:\n",
    "\n",
    "- [Markdown Guide](https://www.markdownguide.org/basic-syntax/)\n",
    "- [Mastering Markdown](https://guides.github.com/features/mastering-markdown/)\n",
    "\n",
    "# Encabezado 1\n",
    "## Encabezado 2\n",
    "### Encabezado 3\n",
    "#### H4\n",
    "##### H5\n",
    "\n",
    "**texto en negrita**\n",
    "\n",
    "*texto en cursiva*\n",
    "\n",
    "***texto en negrita cursiva***\n",
    "\n"
   ]
  },
  {
   "cell_type": "code",
   "execution_count": 30,
   "metadata": {},
   "outputs": [
    {
     "ename": "SyntaxError",
     "evalue": "invalid syntax (<ipython-input-30-b83d77687906>, line 1)",
     "output_type": "error",
     "traceback": [
      "\u001b[0;36m  File \u001b[0;32m\"<ipython-input-30-b83d77687906>\"\u001b[0;36m, line \u001b[0;32m1\u001b[0m\n\u001b[0;31m    Este es un texto en plano\u001b[0m\n\u001b[0m         ^\u001b[0m\n\u001b[0;31mSyntaxError\u001b[0m\u001b[0;31m:\u001b[0m invalid syntax\n"
     ]
    }
   ],
   "source": [
    "Este es un texto en plano"
   ]
  },
  {
   "cell_type": "code",
   "execution_count": 22,
   "metadata": {},
   "outputs": [],
   "source": [
    "# Este es un texto en un comentario en Python"
   ]
  },
  {
   "cell_type": "code",
   "execution_count": 22,
   "metadata": {},
   "outputs": [],
   "source": [
    "# Este es un texto en un comentario en Python"
   ]
  },
  {
   "cell_type": "code",
   "execution_count": 22,
   "metadata": {},
   "outputs": [],
   "source": [
    "# Este es un texto en un comentario en Python"
   ]
  },
  {
   "cell_type": "code",
   "execution_count": 26,
   "metadata": {},
   "outputs": [
    {
     "data": {
      "text/plain": [
       "7"
      ]
     },
     "execution_count": 26,
     "metadata": {},
     "output_type": "execute_result"
    }
   ],
   "source": [
    "# Este es un comentario\n",
    "\n",
    "2 + 5 # esta es una operación"
   ]
  },
  {
   "cell_type": "markdown",
   "metadata": {},
   "source": [
    "# Operadores en Python\n",
    "## Los operadores aritméticos\n",
    "### Suma\n",
    "Para realizar la **suma** el operador es `+`\n",
    "\n",
    "#### Encabezado 4\n",
    "Los operadores en Python son los siguientes:"
   ]
  },
  {
   "cell_type": "code",
   "execution_count": 27,
   "metadata": {},
   "outputs": [
    {
     "data": {
      "text/plain": [
       "154"
      ]
     },
     "execution_count": 27,
     "metadata": {},
     "output_type": "execute_result"
    }
   ],
   "source": [
    "# Suma \n",
    "56 + 98"
   ]
  },
  {
   "cell_type": "code",
   "execution_count": 28,
   "metadata": {},
   "outputs": [],
   "source": [
    "# Multiplicación"
   ]
  },
  {
   "cell_type": "markdown",
   "metadata": {},
   "source": [
    "## Conclusiones\n",
    "\n",
    "Este primer día hemos hablado del **Big Data** y bla bla\n",
    "hemos visto\n",
    "\n",
    "*Lista ordenada*:\n",
    "\n",
    "1. Primer item\n",
    "2. Segundo item\n",
    "\n",
    "*Lista no ordenada*:\n",
    "- Primer elemento\n",
    "- Segundo elemento\n",
    "\n",
    "***Lista anidados***:\n",
    "- Primera categoría\n",
    "-- segundo nivel"
   ]
  },
  {
   "cell_type": "code",
   "execution_count": 29,
   "metadata": {},
   "outputs": [],
   "source": [
    "# Otra celda para introducir el código de Python"
   ]
  },
  {
   "cell_type": "code",
   "execution_count": null,
   "metadata": {},
   "outputs": [],
   "source": []
  }
 ],
 "metadata": {
  "kernelspec": {
   "display_name": "Python 3",
   "language": "python",
   "name": "python3"
  },
  "language_info": {
   "codemirror_mode": {
    "name": "ipython",
    "version": 3
   },
   "file_extension": ".py",
   "mimetype": "text/x-python",
   "name": "python",
   "nbconvert_exporter": "python",
   "pygments_lexer": "ipython3",
   "version": "3.8.6"
  }
 },
 "nbformat": 4,
 "nbformat_minor": 4
}
